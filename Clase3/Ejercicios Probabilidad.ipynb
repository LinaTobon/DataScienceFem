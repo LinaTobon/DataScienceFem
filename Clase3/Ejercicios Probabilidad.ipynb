{
 "cells": [
  {
   "cell_type": "markdown",
   "metadata": {
    "colab_type": "text",
    "id": "EIYB8nQyy3bT"
   },
   "source": [
    "In an English deck of cards there are 4 pints (hearts, spades, diamonds and clubs) and 13 cards per pint. That is, in total there are 52 cards. Suppose you choose two random cards. What is the probability that one of them is black since the other is also black?\n",
    "1.\t1/2\n",
    "2.\t25/52\n",
    "3.\t25/51\n",
    "4.\t26/51\n",
    "5.\tNone of above\n"
   ]
  },
  {
   "cell_type": "code",
   "execution_count": 0,
   "metadata": {
    "colab": {},
    "colab_type": "code",
    "id": "MkE8lMRpyoeW"
   },
   "outputs": [],
   "source": [
    "25/52"
   ]
  },
  {
   "cell_type": "markdown",
   "metadata": {
    "colab_type": "text",
    "id": "huUE7RO_sp92"
   },
   "source": [
    "In an English deck of cards there are 4 pints (hearts, spades, diamonds and clubs) and 13 cards per pint. That is, in total there are 52 cards. Suppose you choose two random cards. What is the probability that one of them is black since the other is also black?\n",
    "1.\t1/2\n",
    "2.\t25/52\n",
    "3.\t25/51\n",
    "4.\t26/51\n",
    "5.\tNone of above\n"
   ]
  },
  {
   "cell_type": "code",
   "execution_count": null,
   "metadata": {},
   "outputs": [],
   "source": [
    "25/51"
   ]
  },
  {
   "cell_type": "markdown",
   "metadata": {
    "colab_type": "text",
    "id": "fITxt8LtzKan"
   },
   "source": [
    "The probability that a Titi monkey likes to eat peanuts is 40%, and the probability of consuming it regularly is 20%. In addition, studies have shown that, among the Titi monkeys that eat peanuts, the probability of dying before 5 years is 5%. What is the probability of dying before 5 years of 5%. What is the probability that a Titi monkey eats peanuts regularly and dies before age 5?\n",
    "1.\t0.1\n",
    "2.\t0.04\n",
    "3.\t0.02\n",
    "4.\t0.01\n"
   ]
  },
  {
   "cell_type": "code",
   "execution_count": 0,
   "metadata": {
    "colab": {},
    "colab_type": "code",
    "id": "PErvp-stzVQh"
   },
   "outputs": [],
   "source": [
    "0.1"
   ]
  },
  {
   "cell_type": "markdown",
   "metadata": {
    "colab_type": "text",
    "id": "0tNirTa2zVtK"
   },
   "source": [
    "If you throw a 6-sided side 3 times. X1, X2 and X3 denote the value of the first, second and third throw.\n",
    "What is P (X1 + X2 + X3 <= 5)\n",
    "1.\t10/36\n",
    "2.\t5/36\n",
    "3.\t10/216\n",
    "4.\t5/216\n"
   ]
  },
  {
   "cell_type": "code",
   "execution_count": 0,
   "metadata": {
    "colab": {},
    "colab_type": "code",
    "id": "QsFaeWAbz9Ye"
   },
   "outputs": [],
   "source": [
    "10/216"
   ]
  },
  {
   "cell_type": "markdown",
   "metadata": {
    "colab_type": "text",
    "id": "cAmJqNA1z9so"
   },
   "source": [
    "In an English deck of cards there are 4 pints (hearts, spades, diamonds and tremolo) and 13 cards per pints. That is, in total there are 52 cards. Suppose you choose two random cards. What is the probability that one of them is black since the other is red?\n",
    "1.\t1/2\n",
    "2.\t25/52\n",
    "3.\t1/4\n",
    "4.\t26/51\n"
   ]
  },
  {
   "cell_type": "code",
   "execution_count": 0,
   "metadata": {
    "colab": {},
    "colab_type": "code",
    "id": "o24ghvSg0J-B"
   },
   "outputs": [],
   "source": [
    "26/51"
   ]
  },
  {
   "cell_type": "markdown",
   "metadata": {
    "colab_type": "text",
    "id": "RtTbuiQv0KOZ"
   },
   "source": [
    "Cosider a fair coin and fair die. The possible outcome toss is \"head\" or \"tail\", while the possible outcome for the die throw is 1,2,3,4,5 or 6. You toss the coin 4 times and throw the die 2 times.\n",
    "The number of possible outcomes for this experiment is________"
   ]
  },
  {
   "cell_type": "code",
   "execution_count": 0,
   "metadata": {
    "colab": {},
    "colab_type": "code",
    "id": "xls3j4xi0LbB"
   },
   "outputs": [],
   "source": [
    "576"
   ]
  },
  {
   "cell_type": "markdown",
   "metadata": {
    "colab_type": "text",
    "id": "c0h2tCEs0__3"
   },
   "source": [
    "A dart is thrown at circular dashboard such that it will land randomly over the area of the dashboard. What is the probability that it lands closer to the center than to the edge? Assume the dart always reaches the dashboard.\n",
    "1.\t25%\n",
    "2.\t50%\n",
    "3.\t10%\n",
    "4.\t33%"
   ]
  },
  {
   "cell_type": "code",
   "execution_count": 0,
   "metadata": {
    "colab": {},
    "colab_type": "code",
    "id": "eYFiTSTl1ATV"
   },
   "outputs": [],
   "source": [
    "1"
   ]
  }
 ],
 "metadata": {
  "colab": {
   "name": "Ejercicios Probabilidad.ipynb",
   "provenance": []
  },
  "kernelspec": {
   "display_name": "Python 3",
   "language": "python",
   "name": "python3"
  },
  "language_info": {
   "codemirror_mode": {
    "name": "ipython",
    "version": 3
   },
   "file_extension": ".py",
   "mimetype": "text/x-python",
   "name": "python",
   "nbconvert_exporter": "python",
   "pygments_lexer": "ipython3",
   "version": "3.7.3"
  }
 },
 "nbformat": 4,
 "nbformat_minor": 1
}
